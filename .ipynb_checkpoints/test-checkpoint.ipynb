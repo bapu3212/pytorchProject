{
 "cells": [
  {
   "metadata": {
    "ExecuteTime": {
     "end_time": "2024-09-19T06:10:37.013943Z",
     "start_time": "2024-09-19T06:10:34.943405Z"
    }
   },
   "cell_type": "code",
   "source": [
    "import torch\n",
    "import torch.nn as nn\n",
    "\n",
    "# 定义一个二维卷积层\n",
    "# 参数解释：\n",
    "# - in_channels=1: 输入通道数为1（单通道图像，如灰度图）\n",
    "# - out_channels=2: 输出通道数为2（生成两个特征图）\n",
    "# - kernel_size=2: 卷积核的大小为2x2\n",
    "# - stride=2: 卷积核的步幅为2，即卷积核每次移动跳过2个像素\n",
    "conv1 = nn.Conv2d(in_channels=1, out_channels=2, kernel_size=2, stride=2)\n",
    "\n",
    "# 禁用自动梯度计算，手动设置卷积核的权重\n",
    "# 我们将卷积核初始化为指定的权重值\n",
    "with torch.no_grad():\n",
    "    # 设置第一个卷积核的权重为 2x2 的矩阵 [[1.0, 1.0], [1.0, 1.0]]\n",
    "    conv1.weight[0] = torch.tensor([[[[1.0, 1.0],\n",
    "                                      [1.0, 1.0]]]])  # 第一个卷积核\n",
    "\n",
    "    # 设置第二个卷积核的权重为 2x2 的矩阵 [[2.0, 2.0], [2.0, 2.0]]\n",
    "    conv1.weight[1] = torch.tensor([[[[2.0, 2.0],\n",
    "                                      [2.0, 2.0]]]])  # 第二个卷积核\n",
    "\n",
    "# 将卷积层的偏置全部初始化为0，确保不添加额外的偏移\n",
    "conv1.bias.data.fill_(0)\n",
    "\n",
    "# 生成一个随机整数矩阵作为输入数据，范围从 0 到 4，形状为 (1, 1, 6, 6)\n",
    "# 解释：\n",
    "# - 第一个维度 1：代表批量大小（batch size），这里处理一个输入\n",
    "# - 第二个维度 1：代表通道数，输入为单通道（灰度图）\n",
    "# - (6, 6)：代表输入图像的高度和宽度，6x6 的矩阵\n",
    "input = torch.randint(0, 5, (1, 1, 6, 6), dtype=torch.float)\n",
    "\n",
    "# 将输入数据传入卷积层，执行卷积操作\n",
    "output = conv1(input)\n",
    "\n",
    "# 打印输入数据及输出结果，查看卷积操作后的变化\n",
    "print(\"Input:\\n\", input)\n",
    "print(\"Output:\\n\", output)\n"
   ],
   "id": "33f56a41dd283f02",
   "outputs": [
    {
     "name": "stdout",
     "output_type": "stream",
     "text": [
      "Input:\n",
      " tensor([[[[0., 4., 2., 2., 4., 2.],\n",
      "          [3., 1., 1., 2., 2., 0.],\n",
      "          [4., 0., 1., 3., 4., 1.],\n",
      "          [4., 1., 4., 0., 0., 3.],\n",
      "          [1., 0., 1., 1., 1., 4.],\n",
      "          [4., 1., 0., 4., 1., 2.]]]])\n",
      "Output:\n",
      " tensor([[[[ 8.,  7.,  8.],\n",
      "          [ 9.,  8.,  8.],\n",
      "          [ 6.,  6.,  8.]],\n",
      "\n",
      "         [[16., 14., 16.],\n",
      "          [18., 16., 16.],\n",
      "          [12., 12., 16.]]]], grad_fn=<ConvolutionBackward0>)\n"
     ]
    }
   ],
   "execution_count": 1
  },
  {
   "metadata": {
    "ExecuteTime": {
     "end_time": "2024-09-19T06:20:39.773205Z",
     "start_time": "2024-09-19T06:20:39.764913Z"
    }
   },
   "cell_type": "code",
   "source": [
    "import torch\n",
    "import torch.nn as nn\n",
    "\n",
    "# 创建随机输入张量并使用 ReLU 激活函数\n",
    "input = torch.randint(-5, 5, (4, 4))\n",
    "output = nn.ReLU()(input)\n",
    "\n",
    "# 打印输入和 ReLU 激活后的输出\n",
    "print(\"Input:\\n\", input)\n",
    "print(\"Output:\\n\", output)\n"
   ],
   "id": "53018c28bb171a6b",
   "outputs": [
    {
     "name": "stdout",
     "output_type": "stream",
     "text": [
      "Input:\n",
      " tensor([[ 4,  1,  2,  2],\n",
      "        [ 4, -1,  3, -1],\n",
      "        [-5, -5,  2,  4],\n",
      "        [ 3, -5, -3, -3]])\n",
      "Output:\n",
      " tensor([[4, 1, 2, 2],\n",
      "        [4, 0, 3, 0],\n",
      "        [0, 0, 2, 4],\n",
      "        [3, 0, 0, 0]])\n"
     ]
    }
   ],
   "execution_count": 10
  },
  {
   "metadata": {
    "ExecuteTime": {
     "end_time": "2024-09-19T06:31:31.725242Z",
     "start_time": "2024-09-19T06:31:31.705298Z"
    }
   },
   "cell_type": "code",
   "source": [
    "import torch\n",
    "import torch.nn as nn\n",
    "\n",
    "# 创建随机输入张量，范围从-5到4，形状为(4, 4)\n",
    "input = torch.randint(-5, 5, (4, 4)).float()  # 转为浮点型以便于池化操作\n",
    "\n",
    "# 定义平均池化层和最大池化层\n",
    "# - kernel_size=2: 池化窗口大小为2x2\n",
    "# - stride=2: 池化步幅为2，表示每次移动2个像素\n",
    "pool1 = nn.AvgPool2d(kernel_size=2, stride=2)  # 平均池化层\n",
    "pool2 = nn.MaxPool2d(kernel_size=2, stride=2)  # 最大池化层\n",
    "\n",
    "# 应用平均池化层\n",
    "out_avg = pool1(input.unsqueeze(0).unsqueeze(0))  # 输入需要添加批量和通道维度\n",
    "\n",
    "# 应用最大池化层\n",
    "out_max = pool2(input.unsqueeze(0).unsqueeze(0))  # 输入需要添加批量和通道维度\n",
    "\n",
    "# 打印输入和池化后的输出\n",
    "print(\"Input:\\n\", input)\n",
    "print(\"Output (AvgPool2d):\\n\", out_avg.squeeze())\n",
    "print(\"Output (MaxPool2d):\\n\", out_max.squeeze())\n"
   ],
   "id": "c14a6dcd00b2f133",
   "outputs": [
    {
     "name": "stdout",
     "output_type": "stream",
     "text": [
      "Input:\n",
      " tensor([[-3.,  2., -2.,  0.],\n",
      "        [-2., -3.,  0.,  3.],\n",
      "        [-1., -1., -5., -3.],\n",
      "        [-1., -3.,  2., -5.]])\n",
      "Output (AvgPool2d):\n",
      " tensor([[-1.5000,  0.2500],\n",
      "        [-1.5000, -2.7500]])\n",
      "Output (MaxPool2d):\n",
      " tensor([[ 2.,  3.],\n",
      "        [-1.,  2.]])\n"
     ]
    }
   ],
   "execution_count": 11
  },
  {
   "metadata": {
    "ExecuteTime": {
     "end_time": "2024-09-19T06:45:43.370300Z",
     "start_time": "2024-09-19T06:45:43.352542Z"
    }
   },
   "cell_type": "code",
   "source": [
    "import torch\n",
    "import torch.nn as nn\n",
    "\n",
    "# 创建输入张量，形状为 (batch_size=1, input_features=8)\n",
    "# 这里 batch_size 为 1，表示处理一个样本，input_features 为 8，表示输入特征的维度\n",
    "input = torch.randn(1, 8)\n",
    "\n",
    "# 定义线性层 (input_features=8, output_features=2)\n",
    "# - 输入特征数为 8\n",
    "# - 输出特征数为 2\n",
    "linear = nn.Linear(in_features=8, out_features=2)\n",
    "\n",
    "# 前向传播：将输入数据传递给线性层\n",
    "# 线性层将输入特征转换为输出特征\n",
    "h = linear(input)\n",
    "\n",
    "# 打印输入张量和线性层的输出张量\n",
    "print(\"Input:\\n\", input)\n",
    "print(\"Output:\\n\", h)\n"
   ],
   "id": "dd1f060939a85da6",
   "outputs": [
    {
     "name": "stdout",
     "output_type": "stream",
     "text": [
      "Input:\n",
      " tensor([[-0.0208,  0.9683,  0.2029,  0.3915, -0.3998,  1.1820, -0.4039, -0.9705]])\n",
      "Output:\n",
      " tensor([[-0.2486, -0.0376]], grad_fn=<AddmmBackward0>)\n"
     ]
    }
   ],
   "execution_count": 12
  }
 ],
 "metadata": {
  "kernelspec": {
   "display_name": "Python 3",
   "language": "python",
   "name": "python3"
  },
  "language_info": {
   "codemirror_mode": {
    "name": "ipython",
    "version": 2
   },
   "file_extension": ".py",
   "mimetype": "text/x-python",
   "name": "python",
   "nbconvert_exporter": "python",
   "pygments_lexer": "ipython2",
   "version": "2.7.6"
  }
 },
 "nbformat": 4,
 "nbformat_minor": 5
}
